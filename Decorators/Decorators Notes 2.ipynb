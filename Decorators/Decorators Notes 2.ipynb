{
 "cells": [
  {
   "cell_type": "code",
   "execution_count": 1,
   "metadata": {},
   "outputs": [],
   "source": [
    "def countCharacter(fonk):\n",
    "    \n",
    "    def wrapper(content):\n",
    "        fonk(content)\n",
    "        \n",
    "        print(\"count char:\",len(content))\n",
    "        \n",
    "        for i in content:\n",
    "            print(i)\n",
    "        \n",
    "    return wrapper"
   ]
  },
  {
   "cell_type": "code",
   "execution_count": 2,
   "metadata": {},
   "outputs": [],
   "source": [
    "@countCharacter\n",
    "def printCharacter(s):\n",
    "    print(\"printCharacter content :\",s)"
   ]
  },
  {
   "cell_type": "code",
   "execution_count": 3,
   "metadata": {},
   "outputs": [
    {
     "name": "stdout",
     "output_type": "stream",
     "text": [
      "printCharacter content : ExampleContent\n",
      "count char: 14\n",
      "E\n",
      "x\n",
      "a\n",
      "m\n",
      "p\n",
      "l\n",
      "e\n",
      "C\n",
      "o\n",
      "n\n",
      "t\n",
      "e\n",
      "n\n",
      "t\n"
     ]
    }
   ],
   "source": [
    "printCharacter(\"ExampleContent\")"
   ]
  },
  {
   "cell_type": "code",
   "execution_count": 4,
   "metadata": {},
   "outputs": [],
   "source": [
    "def countCharacter2(fonk):\n",
    "    \n",
    "    def wrapper(content):\n",
    "        \n",
    "        print(\"count char:\",len(content))\n",
    "        \n",
    "        fonk(content)\n",
    "        \n",
    "        for i in content:\n",
    "            print(i)\n",
    "        \n",
    "    return wrapper"
   ]
  },
  {
   "cell_type": "code",
   "execution_count": 5,
   "metadata": {},
   "outputs": [],
   "source": [
    "@countCharacter2\n",
    "def printCharacter2(s):\n",
    "    print(\"printCharacter2 content :\",s)"
   ]
  },
  {
   "cell_type": "code",
   "execution_count": 6,
   "metadata": {},
   "outputs": [
    {
     "name": "stdout",
     "output_type": "stream",
     "text": [
      "count char: 14\n",
      "printCharacter2 content : ExampleContent\n",
      "E\n",
      "x\n",
      "a\n",
      "m\n",
      "p\n",
      "l\n",
      "e\n",
      "C\n",
      "o\n",
      "n\n",
      "t\n",
      "e\n",
      "n\n",
      "t\n"
     ]
    }
   ],
   "source": [
    "printCharacter2(\"ExampleContent\")"
   ]
  },
  {
   "cell_type": "code",
   "execution_count": null,
   "metadata": {},
   "outputs": [],
   "source": []
  }
 ],
 "metadata": {
  "kernelspec": {
   "display_name": "Python 3",
   "language": "python",
   "name": "python3"
  },
  "language_info": {
   "codemirror_mode": {
    "name": "ipython",
    "version": 3
   },
   "file_extension": ".py",
   "mimetype": "text/x-python",
   "name": "python",
   "nbconvert_exporter": "python",
   "pygments_lexer": "ipython3",
   "version": "3.7.3"
  }
 },
 "nbformat": 4,
 "nbformat_minor": 4
}
