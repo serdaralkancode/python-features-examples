{
 "cells": [
  {
   "cell_type": "code",
   "execution_count": 1,
   "metadata": {},
   "outputs": [],
   "source": [
    "def dec1(fonk):\n",
    "\n",
    "    def wrapper(numbers):\n",
    "        evenSum = 0\n",
    "        evenNumbers = 0\n",
    "        oddSum = 0\n",
    "        oddNumbers = 0\n",
    "\n",
    "        for num in numbers:\n",
    "\n",
    "            if (num % 2 == 0):\n",
    "\n",
    "                evenSum += num\n",
    "                evenNumbers += 1\n",
    "            else:\n",
    "                oddSum += num\n",
    "                oddNumbers += 1\n",
    "        print(\"AVG odd numbers :\",oddSum / oddNumbers)\n",
    "\n",
    "        print(\"AVG even numbers:\",evenSum/ evenNumbers)\n",
    "\n",
    "        fonk(numbers)\n",
    "    return wrapper"
   ]
  },
  {
   "cell_type": "code",
   "execution_count": 2,
   "metadata": {},
   "outputs": [],
   "source": [
    "@dec1\n",
    "def processAvg(numbers):\n",
    "\n",
    "    result = 0\n",
    "\n",
    "    for num in numbers:\n",
    "        result += num\n",
    "    print(\"AVG result :\",result/len(numbers))"
   ]
  },
  {
   "cell_type": "code",
   "execution_count": 3,
   "metadata": {},
   "outputs": [
    {
     "name": "stdout",
     "output_type": "stream",
     "text": [
      "AVG odd numbers : 41.4\n",
      "AVG even numbers: 50.285714285714285\n",
      "AVG result : 46.583333333333336\n"
     ]
    }
   ],
   "source": [
    "processAvg([1,2,3,4,34,60,63,32,100,105,120,35])"
   ]
  },
  {
   "cell_type": "code",
   "execution_count": null,
   "metadata": {},
   "outputs": [],
   "source": []
  }
 ],
 "metadata": {
  "kernelspec": {
   "display_name": "Python 3",
   "language": "python",
   "name": "python3"
  },
  "language_info": {
   "codemirror_mode": {
    "name": "ipython",
    "version": 3
   },
   "file_extension": ".py",
   "mimetype": "text/x-python",
   "name": "python",
   "nbconvert_exporter": "python",
   "pygments_lexer": "ipython3",
   "version": "3.7.3"
  }
 },
 "nbformat": 4,
 "nbformat_minor": 4
}
