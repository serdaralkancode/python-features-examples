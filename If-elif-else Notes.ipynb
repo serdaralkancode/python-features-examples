{
 "cells": [
  {
   "cell_type": "code",
   "execution_count": 2,
   "metadata": {},
   "outputs": [
    {
     "name": "stdout",
     "output_type": "stream",
     "text": [
      "Please enter a number (max : 100, min = 1):300\n",
      " you entered bigger than max number\n"
     ]
    }
   ],
   "source": [
    "a =int(input(\"Please enter a number (max : 100, min = 1):\"))\n",
    "if(a> 0 and a < 100):\n",
    "    print(\"Thanx\")\n",
    "elif(a > 100):\n",
    "    print(\" you entered bigger than max number\")\n",
    "else:\n",
    "    print(\"you entered smaller than min number\")"
   ]
  },
  {
   "cell_type": "code",
   "execution_count": null,
   "metadata": {},
   "outputs": [],
   "source": []
  }
 ],
 "metadata": {
  "kernelspec": {
   "display_name": "Python 3",
   "language": "python",
   "name": "python3"
  },
  "language_info": {
   "codemirror_mode": {
    "name": "ipython",
    "version": 3
   },
   "file_extension": ".py",
   "mimetype": "text/x-python",
   "name": "python",
   "nbconvert_exporter": "python",
   "pygments_lexer": "ipython3",
   "version": "3.7.3"
  }
 },
 "nbformat": 4,
 "nbformat_minor": 4
}
