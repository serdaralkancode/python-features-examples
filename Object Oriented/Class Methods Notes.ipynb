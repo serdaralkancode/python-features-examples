{
 "cells": [
  {
   "cell_type": "code",
   "execution_count": 1,
   "metadata": {},
   "outputs": [],
   "source": [
    "class Person():\n",
    "    \n",
    "    def __init__(self,name,surname,age,city,sex,mailAddresList):\n",
    "        self.name = name\n",
    "        self.surname= surname\n",
    "        self.age = age\n",
    "        self.city = city\n",
    "        self.sex = sex\n",
    "        self.mailAddresList = mailAddresList"
   ]
  },
  {
   "cell_type": "code",
   "execution_count": 2,
   "metadata": {},
   "outputs": [],
   "source": [
    "p1 = Person(\"serdar\",\"alkan\",35,\"Ankara\",True,[\"aa@aa.com\",\"bb@bb.com\",\"cc@cc.com\"])"
   ]
  },
  {
   "cell_type": "code",
   "execution_count": 3,
   "metadata": {},
   "outputs": [
    {
     "data": {
      "text/plain": [
       "['aa@aa.com', 'bb@bb.com', 'cc@cc.com']"
      ]
     },
     "execution_count": 3,
     "metadata": {},
     "output_type": "execute_result"
    }
   ],
   "source": [
    "p1.mailAddresList"
   ]
  },
  {
   "cell_type": "code",
   "execution_count": 4,
   "metadata": {},
   "outputs": [],
   "source": [
    "class Person():\n",
    "    \n",
    "    def __init__(self,name,surname,age,city,isMan,mailAddresList):\n",
    "        self.name = name\n",
    "        self.surname= surname\n",
    "        self.age = age\n",
    "        self.city = city\n",
    "        self.isMan = isMan\n",
    "        self.mailAddresList = mailAddresList\n",
    "        \n",
    "    def showInfo(self):\n",
    "        print(\"\"\"\n",
    "        Person info:\n",
    "        \n",
    "        Name :  {}\n",
    "        \n",
    "        Surname : {}\n",
    "        \n",
    "        Age: {}\n",
    "        \n",
    "        City :  {}\n",
    "        \n",
    "        isMan :  {}\n",
    "        \n",
    "        E-Posta List: {}\n",
    "        \"\"\".format(self.name,self.surname,self.age,self.city,self.isMan,self.mailAddresList))"
   ]
  },
  {
   "cell_type": "code",
   "execution_count": 5,
   "metadata": {},
   "outputs": [],
   "source": [
    "p2 = Person(\"serdar\",\"alkan\",35,\"Ankara\",True,[\"aa@aa.com\",\"bb@bb.com\",\"cc@cc.com\"])"
   ]
  },
  {
   "cell_type": "code",
   "execution_count": 6,
   "metadata": {},
   "outputs": [
    {
     "name": "stdout",
     "output_type": "stream",
     "text": [
      "\n",
      "        Person info:\n",
      "        \n",
      "        Name :  serdar\n",
      "        \n",
      "        Surname : alkan\n",
      "        \n",
      "        Age: 35\n",
      "        \n",
      "        City :  Ankara\n",
      "        \n",
      "        isMan :  True\n",
      "        \n",
      "        E-Posta List: ['aa@aa.com', 'bb@bb.com', 'cc@cc.com']\n",
      "        \n"
     ]
    }
   ],
   "source": [
    "p2.showInfo()"
   ]
  },
  {
   "cell_type": "code",
   "execution_count": 7,
   "metadata": {},
   "outputs": [],
   "source": [
    "class Person():\n",
    "    \n",
    "    def __init__(self,name,surname,age,city,isMan,mailAddresList):\n",
    "        self.name = name\n",
    "        self.surname= surname\n",
    "        self.age = age\n",
    "        self.city = city\n",
    "        self.isMan = isMan\n",
    "        self.mailAddresList = mailAddresList\n",
    "        \n",
    "    def showInfo(self):\n",
    "        print(\"\"\"\n",
    "        Person info:\n",
    "        \n",
    "        Name :  {}\n",
    "        \n",
    "        Surname : {}\n",
    "        \n",
    "        Age: {}\n",
    "        \n",
    "        City :  {}\n",
    "        \n",
    "        isMan :  {}\n",
    "        \n",
    "        E-Posta List: {}\n",
    "        \"\"\".format(self.name,self.surname,self.age,self.city,self.isMan,self.mailAddresList))\n",
    "        \n",
    "    def addMailAddress(self,adress):\n",
    "        self.mailAddresList.append(adress)\n",
    "        \n",
    "    def changeCity(self,newCity):\n",
    "        self.city = newCity"
   ]
  },
  {
   "cell_type": "code",
   "execution_count": 8,
   "metadata": {},
   "outputs": [],
   "source": [
    "p2 = Person(\"serdar\",\"alkan\",35,\"Ankara\",True,[\"aa@aa.com\",\"bb@bb.com\",\"cc@cc.com\"])"
   ]
  },
  {
   "cell_type": "code",
   "execution_count": 9,
   "metadata": {},
   "outputs": [],
   "source": [
    "p2.addMailAddress(\"dd@dd.com\")"
   ]
  },
  {
   "cell_type": "code",
   "execution_count": 10,
   "metadata": {},
   "outputs": [
    {
     "name": "stdout",
     "output_type": "stream",
     "text": [
      "\n",
      "        Person info:\n",
      "        \n",
      "        Name :  serdar\n",
      "        \n",
      "        Surname : alkan\n",
      "        \n",
      "        Age: 35\n",
      "        \n",
      "        City :  Ankara\n",
      "        \n",
      "        isMan :  True\n",
      "        \n",
      "        E-Posta List: ['aa@aa.com', 'bb@bb.com', 'cc@cc.com', 'dd@dd.com']\n",
      "        \n"
     ]
    }
   ],
   "source": [
    "p2.showInfo()"
   ]
  },
  {
   "cell_type": "code",
   "execution_count": 11,
   "metadata": {},
   "outputs": [],
   "source": [
    "p2.changeCity(\"Konya\")"
   ]
  },
  {
   "cell_type": "code",
   "execution_count": 12,
   "metadata": {},
   "outputs": [
    {
     "name": "stdout",
     "output_type": "stream",
     "text": [
      "\n",
      "        Person info:\n",
      "        \n",
      "        Name :  serdar\n",
      "        \n",
      "        Surname : alkan\n",
      "        \n",
      "        Age: 35\n",
      "        \n",
      "        City :  Konya\n",
      "        \n",
      "        isMan :  True\n",
      "        \n",
      "        E-Posta List: ['aa@aa.com', 'bb@bb.com', 'cc@cc.com', 'dd@dd.com']\n",
      "        \n"
     ]
    }
   ],
   "source": [
    "p2.showInfo()"
   ]
  },
  {
   "cell_type": "code",
   "execution_count": null,
   "metadata": {},
   "outputs": [],
   "source": []
  }
 ],
 "metadata": {
  "kernelspec": {
   "display_name": "Python 3",
   "language": "python",
   "name": "python3"
  },
  "language_info": {
   "codemirror_mode": {
    "name": "ipython",
    "version": 3
   },
   "file_extension": ".py",
   "mimetype": "text/x-python",
   "name": "python",
   "nbconvert_exporter": "python",
   "pygments_lexer": "ipython3",
   "version": "3.7.3"
  }
 },
 "nbformat": 4,
 "nbformat_minor": 4
}
