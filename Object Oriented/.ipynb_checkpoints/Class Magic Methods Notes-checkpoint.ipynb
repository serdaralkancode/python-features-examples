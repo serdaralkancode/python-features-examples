{
 "cells": [
  {
   "cell_type": "code",
   "execution_count": 5,
   "metadata": {},
   "outputs": [],
   "source": [
    "class Book():\n",
    "    def __init__(self,name,author,pageCount,bookType,year): \n",
    "       \n",
    "        self.name = name\n",
    "        self.author = author\n",
    "        self.pageCount = pageCount\n",
    "        self.bookType = bookType\n",
    "        self.year = year\n",
    "    def __str__(self):\n",
    "        \n",
    "        return \"Name: {}\\nAuthor: {}\\nPageCount: {}\\nType: {}\\nYear\".format(self.name,self.author,self.pageCount,self.bookType,self.year)\n",
    "    def __len__(self):\n",
    "        return self.pageCount"
   ]
  },
  {
   "cell_type": "code",
   "execution_count": 6,
   "metadata": {},
   "outputs": [],
   "source": [
    "book1 = Book(\"Name of Book\",\"Author of Book\",350,\"Comedy\",2017)"
   ]
  },
  {
   "cell_type": "code",
   "execution_count": 7,
   "metadata": {},
   "outputs": [
    {
     "data": {
      "text/plain": [
       "350"
      ]
     },
     "execution_count": 7,
     "metadata": {},
     "output_type": "execute_result"
    }
   ],
   "source": [
    "len(book1)"
   ]
  },
  {
   "cell_type": "code",
   "execution_count": 9,
   "metadata": {},
   "outputs": [
    {
     "name": "stdout",
     "output_type": "stream",
     "text": [
      "Name: Name of Book\n",
      "Author: Author of Book\n",
      "PageCount: 350\n",
      "Type: Comedy\n",
      "Year\n"
     ]
    }
   ],
   "source": [
    "print(book1)"
   ]
  },
  {
   "cell_type": "code",
   "execution_count": null,
   "metadata": {},
   "outputs": [],
   "source": []
  }
 ],
 "metadata": {
  "kernelspec": {
   "display_name": "Python 3",
   "language": "python",
   "name": "python3"
  },
  "language_info": {
   "codemirror_mode": {
    "name": "ipython",
    "version": 3
   },
   "file_extension": ".py",
   "mimetype": "text/x-python",
   "name": "python",
   "nbconvert_exporter": "python",
   "pygments_lexer": "ipython3",
   "version": "3.7.3"
  }
 },
 "nbformat": 4,
 "nbformat_minor": 4
}
