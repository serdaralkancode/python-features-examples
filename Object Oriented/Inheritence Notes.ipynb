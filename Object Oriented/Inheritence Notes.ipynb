{
 "cells": [
  {
   "cell_type": "code",
   "execution_count": 4,
   "metadata": {},
   "outputs": [],
   "source": [
    "class Employee():\n",
    "    def __init__(self,name,salary,department):\n",
    "        print(\"Employee init function\")\n",
    "        self.name = name\n",
    "        self.salary = salary\n",
    "        self.department = department\n",
    "    def showInfo(self):\n",
    "        \n",
    "        print(\"Employee info.....\")\n",
    "        \n",
    "        print(\"Name : {} \\nSalary: {} \\nDepartment: {}\\n\".format(self.name,self.salary,self.department))\n",
    "    def changeDepartment(self,newDepartment):\n",
    "        print(\"Change department ....\")\n",
    "        self.department = newDepartment"
   ]
  },
  {
   "cell_type": "code",
   "execution_count": 5,
   "metadata": {},
   "outputs": [],
   "source": [
    "class Manager(Employee):\n",
    "    pass"
   ]
  },
  {
   "cell_type": "code",
   "execution_count": 6,
   "metadata": {},
   "outputs": [
    {
     "name": "stdout",
     "output_type": "stream",
     "text": [
      "Employee init function\n"
     ]
    }
   ],
   "source": [
    "manager1 = Manager(\"Mehmet Baltacı\",20000,\"HR\")"
   ]
  },
  {
   "cell_type": "code",
   "execution_count": 7,
   "metadata": {},
   "outputs": [
    {
     "name": "stdout",
     "output_type": "stream",
     "text": [
      "Employee info.....\n",
      "Name : Mehmet Baltacı \n",
      "Salary: 20000 \n",
      "Department: HR\n",
      "\n"
     ]
    }
   ],
   "source": [
    "manager1.showInfo()"
   ]
  },
  {
   "cell_type": "markdown",
   "metadata": {},
   "source": [
    "**Add extra method SubClass**"
   ]
  },
  {
   "cell_type": "code",
   "execution_count": 8,
   "metadata": {},
   "outputs": [],
   "source": [
    "class Manager(Employee):\n",
    "    def increaseSalary(self,money):\n",
    "        print(\"Increase salary....\")\n",
    "        self.salary += money "
   ]
  },
  {
   "cell_type": "code",
   "execution_count": 9,
   "metadata": {},
   "outputs": [
    {
     "name": "stdout",
     "output_type": "stream",
     "text": [
      "Employee init function\n"
     ]
    }
   ],
   "source": [
    "manager1 = Manager(\"Hakan Can\",18000,\"IT\")"
   ]
  },
  {
   "cell_type": "code",
   "execution_count": 10,
   "metadata": {},
   "outputs": [
    {
     "name": "stdout",
     "output_type": "stream",
     "text": [
      "Increase salary....\n"
     ]
    }
   ],
   "source": [
    "manager1.increaseSalary(2000)"
   ]
  },
  {
   "cell_type": "code",
   "execution_count": 11,
   "metadata": {},
   "outputs": [
    {
     "name": "stdout",
     "output_type": "stream",
     "text": [
      "Employee info.....\n",
      "Name : Hakan Can \n",
      "Salary: 20000 \n",
      "Department: IT\n",
      "\n"
     ]
    }
   ],
   "source": [
    "manager1.showInfo()"
   ]
  },
  {
   "cell_type": "markdown",
   "metadata": {},
   "source": [
    "**Override**"
   ]
  },
  {
   "cell_type": "code",
   "execution_count": 12,
   "metadata": {},
   "outputs": [],
   "source": [
    "class Employee():\n",
    "    def __init__(self,name,salary,department):\n",
    "        print(\"Employee init function\")\n",
    "        self.name = name\n",
    "        self.salary = salary\n",
    "        self.department = department\n",
    "    def showInfo(self):\n",
    "        \n",
    "        print(\"Employee info.....\")\n",
    "        \n",
    "        print(\"Name : {} \\nSalary: {} \\nDepartment: {}\\n\".format(self.name,self.salary,self.department))\n",
    "    def changeDepartment(self,newDepartment):\n",
    "        print(\"Change department ....\")\n",
    "        self.department = newDepartment"
   ]
  },
  {
   "cell_type": "code",
   "execution_count": 13,
   "metadata": {},
   "outputs": [],
   "source": [
    "class Manager(Employee):\n",
    "    \n",
    "    def __init__(self,name,salary,department,haveEmployee):   # override init function\n",
    "        print(\"Manager init function\")\n",
    "        self.name = name\n",
    "        self.salary = salary\n",
    "        self.department = department\n",
    "        self.haveEmployee = haveEmployee # new property\n",
    "    def increaseSalary(self,money):\n",
    "        print(\"Increase salary....\")\n",
    "        self.salary += money"
   ]
  },
  {
   "cell_type": "code",
   "execution_count": 14,
   "metadata": {},
   "outputs": [
    {
     "name": "stdout",
     "output_type": "stream",
     "text": [
      "Manager init function\n"
     ]
    }
   ],
   "source": [
    "manager1 = Manager(\"Yusuf Aslan\",20000,\"IT\",13)"
   ]
  },
  {
   "cell_type": "code",
   "execution_count": null,
   "metadata": {},
   "outputs": [],
   "source": []
  }
 ],
 "metadata": {
  "kernelspec": {
   "display_name": "Python 3",
   "language": "python",
   "name": "python3"
  },
  "language_info": {
   "codemirror_mode": {
    "name": "ipython",
    "version": 3
   },
   "file_extension": ".py",
   "mimetype": "text/x-python",
   "name": "python",
   "nbconvert_exporter": "python",
   "pygments_lexer": "ipython3",
   "version": "3.7.3"
  }
 },
 "nbformat": 4,
 "nbformat_minor": 4
}
